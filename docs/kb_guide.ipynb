{
 "cells": [
  {
   "attachments": {},
   "cell_type": "markdown",
   "metadata": {},
   "source": [
    "# How to query the PAP Knowledge base: a jupyter notebook guide\n",
    "\n",
    "This guide assumes you have a fuseki-server running on http://127.0.0.1:3030.\n",
    "\n",
    "Please refer to the [README](https://github.com/mobr-ai/PolkadotAnalytics/blob/main/README.md) file to understand how to run this service."
   ]
  },
  {
   "attachments": {},
   "cell_type": "markdown",
   "metadata": {},
   "source": [
    "The KBM class creates an abstraction layer on top of our triplestore's SPARQL engine. A triplestore is a database used to store and manage semantic data in the form of subject-predicate-object triples. The triplestore along with PAP endpoints and the POnto ontology form the basis of PAP knowledge base. SPARQL is the W3C standard language to query triplestores.\n",
    "\n",
    "The first step to query PAP's knowledge base is importing the KBM (Knowledge Base Manager) class. \n",
    "\n",
    "```python\n",
    "from pap.datalayer.kbm import KBM\n",
    "```\n",
    "\n",
    "Then we can make a query using the method \n",
    "\n",
    "```python\n",
    "KBM.run_sparql(sparql_spec:str, filter:str)\n",
    "```\n",
    "\n",
    "In a sparql query usually you specify wich term you are interested in the SELECT statement, having an '*' when you are interested in all the terms in the triple. The second parameter in the KBM method specifies a filter if you only want a specific term from the query that you are interested, so the results will be retrieved accordingly. \n",
    "\n",
    "The code below executes a query to get all the Parachains described in the Knowledge Base. The query is specified in the sparql_spec variable. For each query it is key to specify the prefixes you will use in the query. The variable KBM.sparql_prefix keeps POnto prefixes for us so we can reuse them in our queries, while being able to add others as needes. Details about the SPARQL query language can be found [here](https://www.w3.org/TR/sparql11-query/).\n",
    "\n",
    "Note that the result brings only a few Parachains, which we created only to illustrate the process. The appropriate representation will be available only after the PAP stage 2 is complete. The primary goal of stage 2 will be to structure and develop processing workflows to gather raw data from the Polkadot Ecosystem. The knowledge base will dynamically maintain a formal representation of extracted data aligned with the POnto ontology.\n",
    "\n",
    "> Tip: use the code snippets below to test your own queries"
   ]
  },
  {
   "cell_type": "code",
   "execution_count": 1,
   "metadata": {},
   "outputs": [
    {
     "name": "stdout",
     "output_type": "stream",
     "text": [
      "['Collectives', 'Picasso', 'Moonbeam', 'Ganshiro', 'Phala', 'Acala', 'Statemint', 'Astar', 'Moonriver']\n"
     ]
    }
   ],
   "source": [
    "import sys\n",
    "sys.path.append(\"../\")\n",
    "\n",
    "from pap.datalayer.kbm import KBM\n",
    "\n",
    "sparql_spec = KBM.sparql_prefix + \"\"\"\n",
    "SELECT ?s\n",
    "WHERE {\n",
    "    ?s a ponto:Parachain\n",
    "}\n",
    "\"\"\"\n",
    "\n",
    "r = KBM.run_sparql(sparql_spec, \"s\")\n",
    "print (r)"
   ]
  },
  {
   "attachments": {},
   "cell_type": "markdown",
   "metadata": {},
   "source": [
    "This type of query can be specified for any class represented in the knowledge base. The code snippet below gets a list of all the POnto classes present in the KB."
   ]
  },
  {
   "cell_type": "code",
   "execution_count": 2,
   "metadata": {},
   "outputs": [
    {
     "name": "stdout",
     "output_type": "stream",
     "text": [
      "['MultisigAccount', 'Query', 'DutyRoster', 'Component', 'ProofOfStake', 'ConsensusMechanism', 'LockedBalance', 'Wallet', 'Proposal', 'ReservationReason', 'ProofOfWork', 'KSM', 'Equivocation', 'Module', 'ExternalQueue', 'HardSpoon', 'StakeHolder', 'Babe', 'Collator', 'InjectedAccount', 'Metadata', 'RuntimeModule', 'FinalityGadget', 'Treasury', 'BLS', 'BrowserWallet', 'Account', 'Consumers', 'WhitelistPallet', 'OpenGov', 'Beneficiary', 'XCMChannel', 'RootOrigin', 'SDK', 'ProofOfValidity', 'Inherent', 'Fellowship', 'Collations', 'Candidate', 'VotingPower', 'Validator', 'GovernanceV1', 'Oracle', 'FRAME', 'CommunityQueue', 'Remarks', 'Referendum', 'TechnicalCommittee', 'Teleport', 'AccountHolder', 'Block', 'Asset', 'Dapp', 'Providers', 'LockType', 'FullNode', 'SlotLeader', 'RandomSeed', 'DemocracyLockType', 'Node', 'FungibleToken', 'Substrate', 'StakePool', 'TVL', 'AvailabilityCores', 'Parachain', 'NativeToken', 'Epoch', 'Origin', 'Crowdloan', 'Parathread', 'EpochTimeSlot', 'ParachainRegistry', 'BitfieldArray', 'Runtime', 'Vote', 'ProgrammingLanguage', 'Authority', 'ActiveNomination', 'LeasePeriod', 'PolkadotArchitecture', 'RelayChain', 'Slashing', 'Interoperability', 'Blockchain', 'SCALE', 'Extrinsic', 'SystemParachain', 'Architecture', 'Protocol', 'PalletSection', 'ProxyAccount', 'ReferenceCounter', 'DataFeed', 'Bridge', 'ElectionLockType', 'Transaction', 'OnchainGovernance', 'Safety', 'SoftFork', 'Sufficients', 'Pallet', 'Scalability', 'Track', 'LedgerRecord', 'VoteDelegation', 'Session', 'PalletMethod', 'Curator', 'MultiroleDelegation', 'Sender', 'OnlineMessage', 'Governance', 'NextSession', 'Stake', 'Bounty', 'KeepAliveCheck', 'LedgerArchitecture', 'Grandpa', 'Balance', 'XCMTransfer', 'DistributedLedger', 'Motion', 'TransferableBalance', 'NPoS', 'ReGenesis', 'StakingLockType', 'MobileWallet', 'Nominator', 'StandaloneChain', 'Transfer', 'PullRequest', 'NodeExplorer', 'ReservedBalance', 'VestingLockType', 'Genesis', 'NFT', 'HardFork', 'BlockExplorer', 'Attestation', 'VirtualMachine', 'LightNode', 'Oversubscribed', 'XCM', 'Liveness', 'Sealing', 'Era', 'NodeAccount', 'DOT', 'Council', 'Collective', 'Preimage', 'Commission', 'SmartContract', 'InactiveNomination', 'Finality', 'ExternalAccount']\n"
     ]
    }
   ],
   "source": [
    "sparql_spec = KBM.sparql_prefix + \"\"\"\n",
    "    SELECT DISTINCT ?s\n",
    "    WHERE {\n",
    "    {\n",
    "        ?s a owl:Class .\n",
    "    }\n",
    "    UNION\n",
    "    {\n",
    "        ?s rdfs:subClassOf ?class .\n",
    "    }\n",
    "    }\n",
    "\"\"\"\n",
    "\n",
    "r = KBM.run_sparql(sparql_spec, \"s\")\n",
    "print (r)"
   ]
  },
  {
   "attachments": {},
   "cell_type": "markdown",
   "metadata": {},
   "source": [
    "The way POnto ontology is structure, each class has its deffinition specified as an rdfs:comment. Note that any POnto class can be used in the query specified in the code below to answer \"what is\" type of questions."
   ]
  },
  {
   "cell_type": "code",
   "execution_count": 3,
   "metadata": {},
   "outputs": [
    {
     "name": "stdout",
     "output_type": "stream",
     "text": [
      "['Represents a communication pathway between two or more Parachains or between a Parachain and the Relay Chain. It allows for the exchange of messages, instructions, and assets across different chains, facilitating inter-chain communication.']\n"
     ]
    }
   ],
   "source": [
    "sparql_spec = KBM.sparql_prefix + \"\"\"\n",
    "    SELECT DISTINCT ?def\n",
    "    WHERE {\n",
    "        ponto:XCMChannel rdfs:comment ?def\n",
    "    }\n",
    "\"\"\"\n",
    "\n",
    "r = KBM.run_sparql(sparql_spec, \"def\")\n",
    "print (r)"
   ]
  },
  {
   "attachments": {},
   "cell_type": "markdown",
   "metadata": {},
   "source": [
    "Now lets create some individuals to illustrate how powerful a query can be. It is important to highlight that these individuals will be automatically fetched from the Polkadot ecosystem as soon as PAP stage 2 is completed.\n",
    "\n",
    "In the example, the triples specifies three accounts a1, a2, and a3. These accounts have 6.1, 4.9, and 5.2 DOTs, respectivelly. In addition, the account a3 has 5.1 KSM in it.\n",
    "\n",
    "In the code snippet below, the triples are stored in the triples variable, which is used in the KBM.inject_triples method to inject the triples in the knowledge base."
   ]
  },
  {
   "cell_type": "code",
   "execution_count": 4,
   "metadata": {},
   "outputs": [],
   "source": [
    "triples = \"\"\"\n",
    "     ponto:a1 a ponto:Account ;\n",
    "          ponto:hasToken ponto:dot1 .\n",
    "\n",
    "     ponto:a2 a ponto:Account ;\n",
    "          ponto:hasToken ponto:dot2 .\n",
    "\n",
    "     ponto:a3 a ponto:Account ;\n",
    "          ponto:hasToken ponto:dot3 ;\n",
    "          ponto:hasToken ponto:ksm1 .\n",
    "\n",
    "     ponto:tb1 a ponto:TransferableBalance ;\n",
    "          ponto:hasBalanceValue \"6.1\"^^xsd:decimal .\n",
    "\n",
    "     ponto:tb2 a ponto:TransferableBalance ;\n",
    "          ponto:hasBalanceValue \"4.9\"^^xsd:decimal .\n",
    "\n",
    "     ponto:tb3 a ponto:TransferableBalance ;\n",
    "          ponto:hasBalanceValue \"5.2\"^^xsd:decimal .\n",
    "\n",
    "     ponto:tb4 a ponto:TransferableBalance ;\n",
    "          ponto:hasBalanceValue \"5.1\"^^xsd:decimal .\n",
    "\n",
    "     ponto:dot1 a ponto:DOT ;\n",
    "          ponto:hasTransferableBalance ponto:tb1 .\n",
    "\n",
    "     ponto:dot2 a ponto:DOT ;\n",
    "          ponto:hasTransferableBalance ponto:tb2 .\n",
    "\n",
    "     ponto:dot3 a ponto:DOT ;\n",
    "          ponto:hasTransferableBalance ponto:tb3 .\n",
    "\n",
    "     ponto:ksm1 a ponto:KSM ;\n",
    "          ponto:hasTransferableBalance ponto:tb4 .\n",
    "\n",
    "     ponto:rb1 a ponto:ReservedBalance ;\n",
    "          ponto:hasBalanceValue \"6.1\"^^xsd:decimal .\n",
    "\n",
    "     ponto:arb1 a ponto:Account ;\n",
    "          ponto:hasAddress \"14UgDLpYd8E28QEmnaT4ZJTsM2kcm84Zo2EoD7wDv8S5CE4w\"^^xsd:string ;\n",
    "          ponto:hasReservedBalance ponto:rb1 .\n",
    "\n",
    "     ponto:ac1 a ponto:Account ;\n",
    "          ponto:hasReserved ponto:rb1 .\n",
    "\n",
    "     ponto:tr1 a ponto:Transaction ;\n",
    "          ponto:hasReserved ponto:rb1 .\n",
    "\"\"\"\n",
    "\n",
    "KBM.inject_triples(triples)"
   ]
  },
  {
   "attachments": {},
   "cell_type": "markdown",
   "metadata": {},
   "source": [
    "Now lets use these triples to make a more interesting query. The code snipet below specifies a SPARQL query to check how many accounts have DOT and KSM tokens? \n",
    "\n",
    "Note that the result is upon the triples we just injected in the triplestore, for illustrative purposes only. The appropriate representation will be available only after the PAP stage 2 is complete."
   ]
  },
  {
   "cell_type": "code",
   "execution_count": 5,
   "metadata": {},
   "outputs": [
    {
     "name": "stdout",
     "output_type": "stream",
     "text": [
      "[1]\n"
     ]
    }
   ],
   "source": [
    "sparql_spec = KBM.sparql_prefix + \"\"\"\n",
    "    SELECT (COUNT(DISTINCT ?account) AS ?numOfAccounts)\n",
    "    WHERE {\n",
    "        ?account ponto:hasToken ?tokenD .\n",
    "        ?tokenD a ponto:DOT .\n",
    "        ?account ponto:hasToken ?tokenK .\n",
    "        ?tokenK a ponto:KSM .\n",
    "    }\n",
    "\"\"\"\n",
    "\n",
    "r = KBM.run_sparql(sparql_spec, \"numOfAccounts\")\n",
    "print (r)"
   ]
  },
  {
   "attachments": {},
   "cell_type": "markdown",
   "metadata": {},
   "source": [
    "In the next code snippets, we illustrate how to specify queries using a query example described in the Substrate-ETL [medium post](https://colorfulnotion.medium.com/polkaholic-ios-2022-xcm-transfers-in-bigquery-public-dataset-substrate-etl-polkadot-xcmtransfers-dfa6f2261ce9).\n",
    "\n",
    "The triples states a few XCM transfers between the three accounts created above. "
   ]
  },
  {
   "cell_type": "code",
   "execution_count": 6,
   "metadata": {},
   "outputs": [],
   "source": [
    "\n",
    "triples = \"\"\"\n",
    "    ponto:s1 a ponto:Sufficients ;\n",
    "      ponto:hasRefCountValue 10 .\n",
    "    ponto:a4 a ponto:Account ;\n",
    "      ponto:hasSufficients ponto:s1 .\n",
    "    ponto:p1 a ponto:Pallet ;\n",
    "      ponto:dependsOn ponto:s1 .\n",
    "    ponto:tr2 a ponto:Transaction ;\n",
    "      ponto:incrementsRefCount ponto:s1 .\n",
    "    ponto:s1 ponto:hasRefCountValue 20 .\n",
    "\n",
    "    ponto:bp1 a ponto:Block ;\n",
    "      ponto:composes ponto:Polkadot .\n",
    "\n",
    "    ponto:bk1 a ponto:Block ;\n",
    "      ponto:composes ponto:Kusama .\n",
    "\n",
    "    ponto:tx1 a ponto:XCMTransfer ;\n",
    "      ponto:recordedOn ponto:bp1 ;\n",
    "      ponto:hasOriginationTimestamp \"2022-10-01T00:00:00Z\"^^xsd:dateTimeStamp ;\n",
    "      ponto:hasSender ponto:a1 ;\n",
    "      ponto:hasTransferBeneficiary ponto:a2 ;\n",
    "      ponto:hasDestinationExecutionStatus \"success\"^^xsd:string .\n",
    "\n",
    "    ponto:tx2 a ponto:XCMTransfer ;\n",
    "      ponto:recordedOn ponto:bp1 ;\n",
    "      ponto:hasOriginationTimestamp \"2022-10-02T00:00:00Z\"^^xsd:dateTimeStamp ;\n",
    "      ponto:hasSender ponto:a3 ;\n",
    "      ponto:hasTransferBeneficiary ponto:a2 ;\n",
    "      ponto:hasDestinationExecutionStatus \"success\"^^xsd:string .\n",
    "\n",
    "    ponto:tx3 a ponto:XCMTransfer ;\n",
    "      ponto:recordedOn ponto:bk1 ;\n",
    "      ponto:hasOriginationTimestamp \"2022-11-02T00:00:00Z\"^^xsd:dateTimeStamp ;\n",
    "      ponto:hasSender ponto:a2 ;\n",
    "      ponto:hasTransferBeneficiary ponto:a1 ;\n",
    "      ponto:hasDestinationExecutionStatus \"success\"^^xsd:string .\n",
    "\"\"\"\n",
    "\n",
    "KBM.inject_triples(triples)"
   ]
  },
  {
   "attachments": {},
   "cell_type": "markdown",
   "metadata": {},
   "source": [
    "The following code snippet specifies a SPARQL query to answer the question: How many distinct XCM Transfer senders and beneficiaries were there in 2022?\n",
    "\n",
    "Note that since it was not specified, the query considers transfers between any blockchains represented in the Knowledge Base."
   ]
  },
  {
   "cell_type": "code",
   "execution_count": 7,
   "metadata": {},
   "outputs": [
    {
     "name": "stdout",
     "output_type": "stream",
     "text": [
      "[{'senders': 3, 'beneficiaries': 2}]\n"
     ]
    }
   ],
   "source": [
    "#How many distinct XCM Transfer senders and beneficiaries were there in 2022?\n",
    "\n",
    "sparql_spec = KBM.sparql_prefix + \"\"\"\n",
    "    SELECT (COUNT(DISTINCT ?sender) AS ?senders) (COUNT(DISTINCT ?beneficiary) AS ?beneficiaries) {\n",
    "        ?transfer a ponto:XCMTransfer .\n",
    "        ?transfer ponto:hasOriginationTimestamp ?timestamp .\n",
    "        ?transfer ponto:hasSender ?sender .\n",
    "        ?transfer ponto:hasTransferBeneficiary ?beneficiary .\n",
    "        ?transfer ponto:hasDestinationExecutionStatus \"success\"^^xsd:string .\n",
    "        FILTER(?timestamp > \"2022-01-01T00:00:00Z\"^^xsd:dateTimeStamp && ?timestamp < \"2022-12-31T23:59:59Z\"^^xsd:dateTimeStamp)\n",
    "    }\n",
    "\"\"\"\n",
    "\n",
    "r = KBM.run_sparql(sparql_spec)\n",
    "print (r)"
   ]
  },
  {
   "attachments": {},
   "cell_type": "markdown",
   "metadata": {},
   "source": [
    "The code snippet below presents a SPARQL query to answer the question \"How many distinct XCM Transfer senders and beneficiaries were there in 2022 in Polkadot?\"\n",
    "\n",
    "Note that this query could be easily changed to retrieve data from Kusama, by replacing ponto:Polkadot to ponto:Kusama."
   ]
  },
  {
   "cell_type": "code",
   "execution_count": 8,
   "metadata": {},
   "outputs": [
    {
     "name": "stdout",
     "output_type": "stream",
     "text": [
      "[{'relaychain': 'Kusama', 'senders': 1, 'beneficiaries': 1}, {'relaychain': 'Polkadot', 'senders': 2, 'beneficiaries': 1}]\n"
     ]
    }
   ],
   "source": [
    "#How many distinct XCM Transfer senders and beneficiaries were there in 2022 in Polkadot vs Kusama?\n",
    "sparql_spec = KBM.sparql_prefix + \"\"\"\n",
    "SELECT ?relaychain (COUNT(DISTINCT ?sender) AS ?senders) (COUNT(DISTINCT ?beneficiary) AS ?beneficiaries) {\n",
    "        ?transfer ponto:recordedOn ?block .\n",
    "        { ?block ponto:composes ponto:Polkadot . BIND (ponto:Polkadot as ?relaychain) }\n",
    "        UNION\n",
    "        { ?block ponto:composes ponto:Kusama . BIND (ponto:Kusama as ?relaychain) }\n",
    "        ?transfer a ponto:XCMTransfer .\n",
    "        ?transfer ponto:hasOriginationTimestamp ?timestamp .\n",
    "        ?transfer ponto:hasSender ?sender .\n",
    "        ?transfer ponto:hasTransferBeneficiary ?beneficiary .\n",
    "        ?transfer ponto:hasDestinationExecutionStatus \"success\"^^xsd:string .\n",
    "        FILTER(?timestamp > \"2022-01-01T00:00:00Z\"^^xsd:dateTimeStamp && ?timestamp < \"2022-12-31T23:59:59Z\"^^xsd:dateTimeStamp)\n",
    "}\n",
    "GROUP BY ?relaychain\n",
    "\"\"\"\n",
    "\n",
    "r = KBM.run_sparql(sparql_spec)\n",
    "print (r)"
   ]
  },
  {
   "attachments": {},
   "cell_type": "markdown",
   "metadata": {},
   "source": [
    "You can also use the KBM class to delete triples. The code snippet below deletes a few of the triples we created in the examples above."
   ]
  },
  {
   "cell_type": "code",
   "execution_count": 9,
   "metadata": {},
   "outputs": [
    {
     "name": "stdout",
     "output_type": "stream",
     "text": [
      "[0]\n"
     ]
    }
   ],
   "source": [
    "KBM.delete_entity(\"a1\")\n",
    "KBM.delete_entity(\"a2\")\n",
    "KBM.delete_entity(\"a3\")\n",
    "KBM.delete_entity(\"dot1\")\n",
    "KBM.delete_entity(\"dot2\")\n",
    "KBM.delete_entity(\"dot3\")\n",
    "KBM.delete_entity(\"ksm1\")\n",
    "\n",
    "sparql_spec = KBM.sparql_prefix + \"\"\"\n",
    "    SELECT (COUNT(DISTINCT ?account) AS ?numOfAccounts)\n",
    "    WHERE {\n",
    "        ?account ponto:hasToken ?tokenD .\n",
    "        ?tokenD a ponto:DOT .\n",
    "        ?account ponto:hasToken ?tokenK .\n",
    "        ?tokenK a ponto:KSM .\n",
    "    }\n",
    "\"\"\"\n",
    "r = KBM.run_sparql(sparql_spec, \"numOfAccounts\")\n",
    "print (r)"
   ]
  },
  {
   "attachments": {},
   "cell_type": "markdown",
   "metadata": {},
   "source": [
    "PAP functionalities also allows you to reset all the representation... like a \"reset your device to factory settings\" functionality. The code snippet below uses the DatasetManager class to execute a reset by deleting the POnto dataset and creating it again with the initial knowledge representation."
   ]
  },
  {
   "cell_type": "code",
   "execution_count": 10,
   "metadata": {},
   "outputs": [
    {
     "name": "stdout",
     "output_type": "stream",
     "text": [
      "all done\n"
     ]
    }
   ],
   "source": [
    "from pap.datalayer.dataset import DatasetManager\n",
    "\n",
    "dm = DatasetManager()\n",
    "dm.delete_dataset(\"POnto\")\n",
    "dm.create_ponto_dataset()\n",
    "\n",
    "if dm.has_dataset(\"POnto\"):\n",
    "    print(\"all done\")"
   ]
  }
 ],
 "metadata": {
  "kernelspec": {
   "display_name": "venv",
   "language": "python",
   "name": "python3"
  },
  "language_info": {
   "codemirror_mode": {
    "name": "ipython",
    "version": 3
   },
   "file_extension": ".py",
   "mimetype": "text/x-python",
   "name": "python",
   "nbconvert_exporter": "python",
   "pygments_lexer": "ipython3",
   "version": "3.11.4"
  },
  "orig_nbformat": 4,
  "vscode": {
   "interpreter": {
    "hash": "e74f24e90c27ec57d1b96d98835d1f3d0a3e1a763c8dccd75be65ba006f45f4a"
   }
  }
 },
 "nbformat": 4,
 "nbformat_minor": 2
}
