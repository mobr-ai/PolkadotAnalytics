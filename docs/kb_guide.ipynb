{
 "cells": [
  {
   "attachments": {},
   "cell_type": "markdown",
   "metadata": {},
   "source": [
    "# How to query the PAP Knowledge base: a jupyter notebook guide\n",
    "\n",
    "For this guide code to work, the services that compose PAP must be running. Please refer to the [README](https://github.com/mobr-ai/PolkadotAnalytics/blob/main/README.md) file to understand how to run these services."
   ]
  },
  {
   "attachments": {},
   "cell_type": "markdown",
   "metadata": {},
   "source": [
    "The KBM class creates an abstraction layer on top of our triplestore's SPARQL engine. A triplestore is a database used to store and manage semantic data in the form of subject-predicate-object triples. The triplestore along with PAP endpoints and the POnto ontology form the basis of PAP knowledge base. SPARQL is the W3C standard language to query triplestores.\n",
    "\n",
    "The first step to query PAP's knowledge base is importing the KBM (Knowledge Base Manager) class. \n",
    "\n",
    "```python\n",
    "from pap.datalayer.kbm import KBM\n",
    "```\n",
    "\n",
    "Then we can make a query using the method \n",
    "\n",
    "```python\n",
    "KBM.run_sparql(sparql_spec:str, term:str)\n",
    "```\n",
    "\n",
    "In a sparql query usually you specify wich term you are interested in the SELECT statement, having an '*' when you are interested in all the terms in the triple. The second parameter in the KBM method specifies the name of the term of interest, so the results will be retrieved accordingly. \n",
    "\n",
    "The code below executes a query to get all the Parachains described in the Knowledge Base. The query is specified in the sparql_spec variable. For each query it is key to specify the prefixes you will use in the query. The variable KBM.sparql_prefix keeps POnto prefixes for us so we can reuse them in our queries, while being able to add others as needes. Details about the SPARQL query language can be found [here](https://www.w3.org/TR/sparql11-query/).\n",
    "\n",
    "Note that the result brings only a few Parachains, which we created only to illustrate the process. The appropriate representation will be available only after the PAP stage 2 is complete. The primary goal of stage 2 will be to structure and develop processing workflows to gather raw data from the Polkadot Ecosystem. The knowledge base will dynamically maintain a formal representation of extracted data aligned with the POnto ontology.\n",
    "\n",
    "> Tip: use the code snippets below to test your own queries"
   ]
  },
  {
   "cell_type": "code",
   "execution_count": 4,
   "metadata": {},
   "outputs": [
    {
     "name": "stdout",
     "output_type": "stream",
     "text": [
      "['Astar', 'Statemine', 'Acala', 'Collectives', 'Moonbeam', 'Statemint', 'Phala']\n"
     ]
    }
   ],
   "source": [
    "import sys\n",
    "sys.path.append(\"../\")\n",
    "\n",
    "from pap.datalayer.kbm import KBM\n",
    "\n",
    "sparql_spec = KBM.sparql_prefix + \"\"\"\n",
    "SELECT ?s\n",
    "WHERE {\n",
    "    ?s a ponto:Parachain\n",
    "}\n",
    "\"\"\"\n",
    "\n",
    "r = KBM.run_sparql(sparql_spec, \"s\")\n",
    "print (r)"
   ]
  },
  {
   "attachments": {},
   "cell_type": "markdown",
   "metadata": {},
   "source": [
    "This type of query can be specified for any class represented in the knowledge base. The code snippet below gets a list of all the POnto classes present in the KB."
   ]
  },
  {
   "cell_type": "code",
   "execution_count": 5,
   "metadata": {},
   "outputs": [
    {
     "name": "stdout",
     "output_type": "stream",
     "text": [
      "['Extrinsic', 'Transaction', 'StakeHolder', 'OnlineMessage', 'Interoperability', 'Metadata', 'AccountHolder', 'BrowserWallet', 'Oracle', 'Teleport', 'SDK', 'Preimage', 'SlotLeader', 'MobileWallet', 'Wallet', 'Component', 'Collective', 'ConsensusMechanism', 'FinalityGadget', 'ProofOfStake', 'LedgerArchitecture', 'DataFeed', 'Inherent', 'Commission', 'RelayChain', 'DistributedLedger', 'Equivocation', 'StakePool', 'Treasury', 'NativeToken', 'FungibleToken', 'TechnicalCommittee', 'SCALE', 'Governance', 'Origin', 'NextSession', 'BLS', 'LedgerRecord', 'Node', 'ProofOfWork', 'Attestation', 'Parachain', 'KSM', 'PolkadotArchitecture', 'Block', 'Track', 'Oversubscribed', 'Curator', 'Bridge', 'Sender', 'ActiveNomination', 'Blockchain', 'SoftFork', 'VoteDelegation', 'Stake', 'Architecture', 'FullNode', 'LightNode', 'Session', 'ReGenesis', 'TVL', 'Authority', 'CommunityQueue', 'Liveness', 'InactiveNomination', 'Validator', 'Motion', 'ProxyAccount', 'AvailabilityCores', 'NodeAccount', 'Account', 'Collator', 'ProgrammingLanguage', 'ParachainRegistry', 'Finality', 'Babe', 'Recipient', 'DutyRoster', 'Bounty', 'WhitelistPallet', 'VirtualMachine', 'OpenGov', 'ExternalQueue', 'Proposal', 'Scalability', 'Nominator', 'Fellowship', 'Era', 'Epoch', 'GovernanceV1', 'XCM', 'Slashing', 'MultiroleDelegation', 'EpochTimeSlot', 'SystemParachain', 'RandomSeed', 'HardSpoon', 'BlockExplorer', 'Collations', 'ExternalAccount', 'InjectedAccount', 'XCMChannel', 'PullRequest', 'Substrate', 'Token', 'OnchainGovernance', 'VotingPower', 'RootOrigin', 'Module', 'Referendum', 'Crowdloan', 'StandaloneChain', 'ProofOfValidity', 'RuntimeModule', 'Grandpa', 'Candidate', 'Pallet', 'BitfieldArray', 'NPoS', 'Safety', 'Council', 'HardFork', 'DOT', 'SmartContract', 'LeasePeriod', 'Genesis', 'Dapp', 'Runtime', 'KeepAliveCheck', 'Parathread', 'FRAME', 'Protocol', 'NFT', 'Sealing', 'Remarks', 'MultisigAccount', 'NodeExplorer', 'Query']\n"
     ]
    }
   ],
   "source": [
    "sparql_spec = KBM.sparql_prefix + \"\"\"\n",
    "    SELECT DISTINCT ?s\n",
    "    WHERE {\n",
    "    {\n",
    "        ?s a owl:Class .\n",
    "    }\n",
    "    UNION\n",
    "    {\n",
    "        ?s rdfs:subClassOf ?class .\n",
    "    }\n",
    "    }\n",
    "\"\"\"\n",
    "\n",
    "r = KBM.run_sparql(sparql_spec, \"s\")\n",
    "print (r)"
   ]
  },
  {
   "attachments": {},
   "cell_type": "markdown",
   "metadata": {},
   "source": [
    "The way POnto ontology is structure, each class has its deffinition specified as an rdfs:comment. Note that any POnto class can be used in the query specified in the code below to answer \"what is\" type of questions."
   ]
  },
  {
   "cell_type": "code",
   "execution_count": 6,
   "metadata": {},
   "outputs": [
    {
     "name": "stdout",
     "output_type": "stream",
     "text": [
      "['Represents a communication pathway between two or more Parachains or between a Parachain and the Relay Chain. It allows for the exchange of messages, instructions, and assets across different chains, facilitating inter-chain communication.']\n"
     ]
    }
   ],
   "source": [
    "sparql_spec = KBM.sparql_prefix + \"\"\"\n",
    "    SELECT DISTINCT ?def\n",
    "    WHERE {\n",
    "        ponto:XCMChannel rdfs:comment ?def\n",
    "    }\n",
    "\"\"\"\n",
    "\n",
    "r = KBM.run_sparql(sparql_spec, \"def\")\n",
    "print (r)"
   ]
  },
  {
   "attachments": {},
   "cell_type": "markdown",
   "metadata": {},
   "source": [
    "Now lets create some individuals to illustrate how powerful a query can be. It is important to highlight that these individuals will be automatically fetched from the Polkadot ecosystem as soon as PAP stage 2 is completed.\n",
    "\n",
    "In the example, the triples specifies three accounts a1, a2, and a3. These accounts have 6.1, 4.9, and 5.2 DOTs, respectivelly. In addition, the account a3 has 5.1 KSM in it.\n",
    "\n",
    "In the code snippet below, the triples are stored in the triples variable, which is used in the KBM.inject_triples method to inject the triples in the knowledge base."
   ]
  },
  {
   "cell_type": "code",
   "execution_count": 10,
   "metadata": {},
   "outputs": [],
   "source": [
    "triples = \"\"\"\n",
    "ponto:a1 a ponto:Account ;\n",
    "     ponto:hasToken ponto:dot1 .\n",
    "\n",
    "ponto:a2 a ponto:Account ;\n",
    "     ponto:hasToken ponto:dot2 .\n",
    "\n",
    "ponto:a3 a ponto:Account ;\n",
    "     ponto:hasToken ponto:dot3 ;\n",
    "     ponto:hasToken ponto:ksm1 .\n",
    "\n",
    "ponto:dot1 a ponto:DOT ;\n",
    "     ponto:hasBalance \"6.1\"^^xsd:decimal .\n",
    "\n",
    "ponto:dot2 a ponto:DOT .\n",
    "ponto:dot2 ponto:hasBalance \"4.9\"^^xsd:decimal .\n",
    "\n",
    "ponto:dot3 a ponto:DOT ;\n",
    "     ponto:hasBalance \"5.2\"^^xsd:decimal .\n",
    "\n",
    "ponto:ksm1 a ponto:KSM ;\n",
    "     ponto:hasBalance \"5.1\"^^xsd:decimal .\n",
    "\"\"\"\n",
    "\n",
    "KBM.inject_triples(triples)"
   ]
  },
  {
   "attachments": {},
   "cell_type": "markdown",
   "metadata": {},
   "source": [
    "Now lets use these triples to make a more interesting query. The code snipet below specifies a SPARQL query to check how many accounts have DOT and KSM tokens? \n",
    "\n",
    "Again, note that the result is upon the triples we just injected in the triplestore, for illustrative purposes only. The appropriate representation will be available only after the PAP stage 2 is complete."
   ]
  },
  {
   "cell_type": "code",
   "execution_count": 13,
   "metadata": {},
   "outputs": [
    {
     "name": "stdout",
     "output_type": "stream",
     "text": [
      "['1']\n"
     ]
    }
   ],
   "source": [
    "sparql_spec = KBM.sparql_prefix + \"\"\"\n",
    "    SELECT (COUNT(DISTINCT ?account) AS ?numOfAccounts)\n",
    "    WHERE {\n",
    "        ?account ponto:hasToken ?tokenD .\n",
    "        ?tokenD a ponto:DOT .\n",
    "        ?account ponto:hasToken ?tokenK .\n",
    "        ?tokenK a ponto:KSM .\n",
    "    }\n",
    "\"\"\"\n",
    "\n",
    "r = KBM.run_sparql(sparql_spec, \"numOfAccounts\")\n",
    "print (r)"
   ]
  }
 ],
 "metadata": {
  "kernelspec": {
   "display_name": "venv",
   "language": "python",
   "name": "python3"
  },
  "language_info": {
   "codemirror_mode": {
    "name": "ipython",
    "version": 3
   },
   "file_extension": ".py",
   "mimetype": "text/x-python",
   "name": "python",
   "nbconvert_exporter": "python",
   "pygments_lexer": "ipython3",
   "version": "3.11.4"
  },
  "orig_nbformat": 4,
  "vscode": {
   "interpreter": {
    "hash": "e74f24e90c27ec57d1b96d98835d1f3d0a3e1a763c8dccd75be65ba006f45f4a"
   }
  }
 },
 "nbformat": 4,
 "nbformat_minor": 2
}
